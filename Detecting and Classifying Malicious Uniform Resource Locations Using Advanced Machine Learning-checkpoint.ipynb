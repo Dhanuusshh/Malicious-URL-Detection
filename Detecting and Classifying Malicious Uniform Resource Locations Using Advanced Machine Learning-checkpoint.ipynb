{
 "cells": [
  {
   "cell_type": "markdown",
   "metadata": {
    "id": "scYIx4hY2Bj9"
   },
   "source": [
    "# Cyber Security Project\n",
    "\n",
    " **Objective:** Train algorithms to automate employees protection"
   ]
  },
  {
   "cell_type": "markdown",
   "metadata": {
    "id": "Ko9B5AMd24s2"
   },
   "source": [
    "## Malicious URL Detection"
   ]
  },
  {
   "cell_type": "code",
   "execution_count": null,
   "metadata": {
    "colab": {
     "base_uri": "https://localhost:8080/"
    },
    "id": "DC1jwJA335DA",
    "outputId": "c69f6090-60e1-4d46-bf74-3c49cd1f9ea6"
   },
   "outputs": [],
   "source": [
    "#@title Packages\n",
    "!pip install -qq itables"
   ]
  },
  {
   "cell_type": "code",
   "execution_count": null,
   "metadata": {
    "id": "AFf65e9d3EBS"
   },
   "outputs": [],
   "source": [
    "#@title Libraries\n",
    "from urllib.parse import urlsplit\n",
    "#from itables import init_notebook_mode\n",
    "#from google.colab.data_table import DataTable\n",
    "import matplotlib.pyplot as plt\n",
    "import seaborn as sns\n",
    "import pandas as pd\n",
    "import numpy as np\n",
    "from sklearn.ensemble import RandomForestClassifier\n",
    "from sklearn.model_selection import GridSearchCV\n",
    "from sklearn.metrics import accuracy_score\n",
    "import warn"
   ]
  },
  {
   "cell_type": "markdown",
   "metadata": {
    "id": "1ts3ZsJs3hrB"
   },
   "source": [
    "#@title Settings\n",
    "\n",
    "DataTable.max_columns = 32\n",
    "init_notebook_mode(all_interactive=True)\n",
    "sns.set_theme()"
   ]
  },
  {
   "cell_type": "code",
   "execution_count": null,
   "metadata": {
    "colab": {
     "base_uri": "https://localhost:8080/",
     "height": 529
    },
    "id": "vdD4gMB5222C",
    "outputId": "38584975-2906-4260-ce7a-956db7b43617"
   },
   "outputs": [],
   "source": [
    "#@title Read DataFrame\n",
    "\n",
    "df = pd.read_csv(r\"C:\\Users\\abhil\\Downloads\\malicious_phish.csv\\malicious_phish.csv\")\n",
    "df.head(50)"
   ]
  },
  {
   "cell_type": "code",
   "execution_count": null,
   "metadata": {
    "colab": {
     "base_uri": "https://localhost:8080/",
     "height": 193
    },
    "id": "eGFm0VOyJly_",
    "outputId": "c0cf9647-043e-4a24-bc41-095953e299a2"
   },
   "outputs": [],
   "source": [
    "#@title General Info\n",
    "df.describe()"
   ]
  },
  {
   "cell_type": "code",
   "execution_count": null,
   "metadata": {
    "colab": {
     "base_uri": "https://localhost:8080/"
    },
    "id": "0ySZHQe1HbTc",
    "outputId": "03e401d8-5e10-4514-cadc-4916dab0db7e"
   },
   "outputs": [],
   "source": [
    "df.info()"
   ]
  },
  {
   "cell_type": "code",
   "execution_count": null,
   "metadata": {
    "colab": {
     "base_uri": "https://localhost:8080/",
     "height": 428
    },
    "id": "9c7OsqM8KERW",
    "outputId": "bc7933e3-c7fe-48f3-d468-8e655ef4898c"
   },
   "outputs": [],
   "source": [
    "#@title Distribution\n",
    "plt.figure()\n",
    "\n",
    "df['type'].value_counts().plot(kind='pie')\n",
    "plt.title('Labels')\n",
    "plt.gca().set_ylabel('')\n",
    "plt.show()"
   ]
  },
  {
   "cell_type": "markdown",
   "metadata": {
    "id": "0kjcd99VLML8"
   },
   "source": [
    "# Preprocessing"
   ]
  },
  {
   "cell_type": "code",
   "execution_count": null,
   "metadata": {
    "id": "9dNHY4JJKtEF"
   },
   "outputs": [],
   "source": [
    "#@title Extract Features\n",
    "\n",
    "df['ext_type'] = df['url'].apply(lambda x: urlsplit(x).path.rsplit('.', 1)[-1] if '.' in urlsplit(x).path else 'None')\n",
    "\n",
    "value_counts = df['ext_type'].value_counts()\n",
    "values_to_replace = value_counts.nlargest(8).index\n",
    "\n",
    "df.loc[~df['ext_type'].isin(values_to_replace), 'ext_type'] = 'None'\n",
    "\n",
    "df['has_http'] = df['url'].str.contains('http://').astype(int)\n",
    "\n",
    "df['has_org'] = df['url'].str.contains('org').astype(int)\n",
    "\n",
    "df['has_query'] = df['url'].str.contains('\\?').astype(int)\n",
    "\n",
    "df['count_routes'] = df['url'].str.replace('http://', '').str.count('/')\n",
    "\n",
    "df['count_routes'] = df['count_routes'].where(df['count_routes'] <= 4, 4)"
   ]
  },
  {
   "cell_type": "code",
   "execution_count": null,
   "metadata": {
    "colab": {
     "base_uri": "https://localhost:8080/",
     "height": 227
    },
    "id": "zXFSJMqZMwuI",
    "outputId": "707641d1-26cf-402c-e600-a9fdf9754ac6"
   },
   "outputs": [],
   "source": [
    "df.iloc[:,1:].head()"
   ]
  },
  {
   "cell_type": "code",
   "execution_count": null,
   "metadata": {
    "colab": {
     "base_uri": "https://localhost:8080/",
     "height": 846
    },
    "id": "vWNV8Cq_Snc7",
    "outputId": "1b5b53ef-9eb1-4080-8493-ebaa622ea25d"
   },
   "outputs": [],
   "source": [
    "plt.figure(figsize=(10, 8))\n",
    "sns.heatmap(pd.get_dummies(df.iloc[:, 1:]).corr())\n",
    "plt.title('Correlation Matrix')\n",
    "plt.show()"
   ]
  },
  {
   "cell_type": "code",
   "execution_count": null,
   "metadata": {
    "id": "UQT1EwT5V8Ub"
   },
   "outputs": [],
   "source": [
    "y_mapping = {\n",
    "    0:'benign',\n",
    "    1:'defacement', \n",
    "    2:'malware', \n",
    "    3:'phishing'\n",
    "}\n",
    "\n",
    "df['count_routes'] = df['count_routes'].astype(str)\n",
    "\n",
    "X,y = pd.get_dummies(df.iloc[:, 2:]), df['type'].replace({v: k for k, v in y_mapping.items()})"
   ]
  },
  {
   "cell_type": "code",
   "execution_count": null,
   "metadata": {
    "colab": {
     "base_uri": "https://localhost:8080/"
    },
    "id": "CPIbXE-FaHMx",
    "outputId": "5abe667a-7126-423b-bf3f-13654ac6e3a2"
   },
   "outputs": [],
   "source": [
    "from sklearn.model_selection import train_test_split\n",
    "from imblearn.under_sampling import RandomUnderSampler\n",
    "\n",
    "# Perform random undersampling to balance the classes\n",
    "rus = RandomUnderSampler(random_state=42)\n",
    "X_resampled, y_resampled = rus.fit_resample(X, y)\n",
    "\n",
    "# Split samples\n",
    "X_train, X_test, y_train, y_test = train_test_split(X_resampled, y_resampled, test_size=0.2, random_state=1337)\n",
    "\n",
    "print('X_train shape is', X_train.shape)\n",
    "print('y_train shape is', y_train.shape)\n",
    "print('X_test shape is', X_test.shape)\n",
    "print('y_test shape is', y_test.shape)\n",
    "\n",
    "print(pd.value_counts(y_train))"
   ]
  },
  {
   "cell_type": "markdown",
   "metadata": {
    "colab": {
     "base_uri": "https://localhost:8080/"
    },
    "id": "5f7-eaH9T_ig",
    "outputId": "c41e182a-bc1e-4ade-9f25-341d1f86d070"
   },
   "source": [
    "# !pip install -qq tensorflowjs"
   ]
  },
  {
   "cell_type": "code",
   "execution_count": null,
   "metadata": {
    "colab": {
     "base_uri": "https://localhost:8080/"
    },
    "id": "oqmE7qb-eBSz",
    "outputId": "37d24cb8-92c7-4d43-832c-c2070bea72cb"
   },
   "outputs": [],
   "source": [
    "#import tensorflowjs as tfjs\n",
    "import tensorflow as tf\n",
    "from sklearn.metrics import classification_report, accuracy_score\n",
    "\n",
    "num_classes = 4\n",
    "\n",
    "# Define the neural network model\n",
    "model = tf.keras.models.Sequential([\n",
    "    tf.keras.layers.Dense(64, activation='relu', input_shape=(X_train.shape[1],)),\n",
    "    tf.keras.layers.Dense(64, activation='relu'),\n",
    "    tf.keras.layers.Dense(64, activation='relu'),\n",
    "    tf.keras.layers.Dense(num_classes, activation='softmax')  # num_classes is the number of classes in your target variable\n",
    "])\n",
    "\n",
    "# Compile the model\n",
    "model.compile(optimizer='rmsprop', loss='sparse_categorical_crossentropy', metrics=['accuracy'],)\n",
    "\n",
    "# Train the model\n",
    "history = model.fit(X_train, y_train, batch_size=32, epochs=10, validation_data=(X_test, y_test))\n",
    "\n",
    "# Make predictions on the testing data\n",
    "y_pred_prob = model.predict(X_test)\n",
    "y_pred = np.argmax(y_pred_prob, axis=1)\n",
    "\n",
    "# Evaluate the model's accuracy\n",
    "accuracy = accuracy_score(y_test, y_pred)\n",
    "print(\"Accuracy:\", accuracy)\n",
    "\n",
    "# Print the classification report\n",
    "print(\"Classification Report:\")\n",
    "print(classification_report(y_test, y_pred))"
   ]
  },
  {
   "cell_type": "code",
   "execution_count": null,
   "metadata": {
    "colab": {
     "base_uri": "https://localhost:8080/"
    },
    "id": "yYhRhhScYa3e",
    "outputId": "56be595b-079e-480c-82b2-bf2120de8c4f"
   },
   "outputs": [],
   "source": [
    "from sklearn.metrics import classification_report, accuracy_score, confusion_matrix\n",
    "from xgboost import XGBClassifier\n",
    "\n",
    "# create a default XGBoost classifier\n",
    "model = XGBClassifier(n_estimators=500, random_state=42,objective='binary:logistic')\n",
    "\n",
    "\n",
    "# Instantiate the XGBoost classifier for multi-class classification\n",
    "model = XGBClassifier(objective='multi:softmax')\n",
    "\n",
    "# Train the model\n",
    "model.fit(X_train, y_train, verbose=True)\n",
    "\n",
    "# Make predictions on the testing data\n",
    "y_pred = model.predict(X_test)\n",
    "\n",
    "# Evaluate the model's accuracy\n",
    "accuracy = accuracy_score(y_test, y_pred)\n",
    "print(\"Accuracy:\", accuracy)\n",
    "\n",
    "# Print the classification report\n",
    "print(\"Classification Report:\")\n",
    "print(classification_report(y_test, y_pred))"
   ]
  },
  {
   "cell_type": "code",
   "execution_count": null,
   "metadata": {},
   "outputs": [],
   "source": [
    "# Create a Random Forest classifier\n",
    "rf_classifier = RandomForestClassifier()\n",
    "rf_classifier.fit(X_train,y_train)\n",
    "# Predict on the test set\n",
    "y_pred = best_rf.predict(X_test)\n",
    "\n",
    "# Calculate accuracy on the test set\n",
    "accuracy = accuracy_score(y_test, y_pred)\n",
    "print(\"Accuracy on Test Set: \", accuracy)"
   ]
  },
  {
   "cell_type": "code",
   "execution_count": null,
   "metadata": {},
   "outputs": [],
   "source": [
    "y_pred"
   ]
  },
  {
   "cell_type": "code",
   "execution_count": null,
   "metadata": {
    "colab": {
     "base_uri": "https://localhost:8080/",
     "height": 497
    },
    "id": "geXWSRmOkm0Z",
    "outputId": "d8012757-ddbb-45f5-8b92-ed31234cac40"
   },
   "outputs": [],
   "source": [
    "from sklearn.metrics import classification_report, accuracy_score, confusion_matrix\n",
    "\n",
    "sns.heatmap(confusion_matrix(y_test, y_pred), xticklabels=[v for v in y_mapping.values()], \n",
    "            yticklabels=[v for v in y_mapping.values()], annot=True, fmt=\".0f\")\n",
    "\n",
    "plt.title('Confusion Matrix')\n",
    "plt.ylabel('Predicted')\n",
    "plt.xlabel('Real')"
   ]
  },
  {
   "cell_type": "code",
   "execution_count": null,
   "metadata": {},
   "outputs": [],
   "source": [
    "X_test"
   ]
  },
  {
   "cell_type": "code",
   "execution_count": null,
   "metadata": {},
   "outputs": [],
   "source": [
    "#test = pd.read_csv(filename)\n",
    "#test = test.values[:, 0:42] \n",
    "y_pred = classifier.predict(X_test)\n",
    "for i in range(len(X_test)):\n",
    "    print(y_pred[i])\n",
    "    if str(y_pred[i]) == '1.0':\n",
    "        text.insert(END,'Test Record No : '+str(index)+' Predicted : Cartilage Change/Progression Predicted\\n')\n",
    "    else:\n",
    "        text.insert(END,'Test Record No : '+str(index)+' Predicted : No Cartilage Change/Progression Predicted\\n') "
   ]
  },
  {
   "cell_type": "code",
   "execution_count": null,
   "metadata": {},
   "outputs": [],
   "source": []
  },
  {
   "cell_type": "code",
   "execution_count": null,
   "metadata": {},
   "outputs": [],
   "source": []
  },
  {
   "cell_type": "code",
   "execution_count": null,
   "metadata": {
    "id": "N-eFfgporw5p"
   },
   "outputs": [],
   "source": [
    "import pickle\n",
    "\n",
    "# Assuming you have a trained XGBClassifier object called 'model'\n",
    "with open('model.pkl', 'wb') as file:\n",
    "    pickle.dump(model, file)"
   ]
  },
  {
   "cell_type": "code",
   "execution_count": null,
   "metadata": {
    "id": "2KKy0VSAUROP"
   },
   "outputs": [],
   "source": [
    "import tensorflowjs as tfjs\n",
    "\n",
    "tfjs.converters.save_keras_model(model, 'content/')"
   ]
  },
  {
   "cell_type": "code",
   "execution_count": null,
   "metadata": {
    "colab": {
     "base_uri": "https://localhost:8080/"
    },
    "id": "xMwAcc97f3Yf",
    "outputId": "ab90ae27-7b59-46f0-e091-d16d4ace0db6"
   },
   "outputs": [],
   "source": [
    "import tensorflow as tf\n",
    "\n",
    "# Supondo que você tenha um modelo treinado chamado 'model'\n",
    "\n",
    "# Salvar o modelo em formato JSON\n",
    "model_json = model.to_json()\n",
    "with open(\"model.json\", \"w\") as json_file:\n",
    "    json_file.write(model_json)\n",
    "\n",
    "# Salvar os pesos do modelo em formato HDF5\n",
    "model.save_weights(\"model_weights.h5\")\n",
    "\n",
    "print(\"Modelo salvo em JSON com sucesso.\")"
   ]
  },
  {
   "cell_type": "code",
   "execution_count": null,
   "metadata": {},
   "outputs": [],
   "source": []
  },
  {
   "cell_type": "code",
   "execution_count": null,
   "metadata": {},
   "outputs": [],
   "source": []
  },
  {
   "cell_type": "code",
   "execution_count": null,
   "metadata": {},
   "outputs": [],
   "source": []
  },
  {
   "cell_type": "code",
   "execution_count": null,
   "metadata": {},
   "outputs": [],
   "source": []
  }
 ],
 "metadata": {
  "colab": {
   "authorship_tag": "ABX9TyOBixI/hIbtXod3cSajejq/",
   "include_colab_link": true,
   "provenance": []
  },
  "kernelspec": {
   "display_name": "Python 3 (ipykernel)",
   "language": "python",
   "name": "python3"
  },
  "language_info": {
   "codemirror_mode": {
    "name": "ipython",
    "version": 3
   },
   "file_extension": ".py",
   "mimetype": "text/x-python",
   "name": "python",
   "nbconvert_exporter": "python",
   "pygments_lexer": "ipython3",
   "version": "3.7.6"
  }
 },
 "nbformat": 4,
 "nbformat_minor": 1
}
